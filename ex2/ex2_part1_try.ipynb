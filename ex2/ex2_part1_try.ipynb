{
 "cells": [
  {
   "cell_type": "markdown",
   "id": "875e7f04-c3e5-44d7-b604-9259bb131bd0",
   "metadata": {
    "editable": true,
    "slideshow": {
     "slide_type": ""
    },
    "tags": []
   },
   "source": [
    "# DIC EX2 - part 1"
   ]
  },
  {
   "cell_type": "markdown",
   "id": "ed4c9941-f61e-48f4-a5c3-01b2de8d45f9",
   "metadata": {
    "editable": true,
    "slideshow": {
     "slide_type": ""
    },
    "tags": []
   },
   "source": [
    "## Setup\n",
    "\n",
    "### Initialize Spark context"
   ]
  },
  {
   "cell_type": "code",
   "execution_count": 1,
   "id": "2590cf54-9939-4f23-be41-abff87d7ce14",
   "metadata": {
    "editable": true,
    "slideshow": {
     "slide_type": ""
    },
    "tags": []
   },
   "outputs": [
    {
     "name": "stderr",
     "output_type": "stream",
     "text": [
      "SLF4J: Class path contains multiple SLF4J bindings.\n",
      "SLF4J: Found binding in [jar:file:/usr/lib/spark/jars/log4j-slf4j-impl-2.17.2.jar!/org/slf4j/impl/StaticLoggerBinder.class]\n",
      "SLF4J: Found binding in [jar:file:/usr/lib/hadoop/lib/slf4j-reload4j-1.7.36.jar!/org/slf4j/impl/StaticLoggerBinder.class]\n",
      "SLF4J: See http://www.slf4j.org/codes.html#multiple_bindings for an explanation.\n",
      "SLF4J: Actual binding is of type [org.apache.logging.slf4j.Log4jLoggerFactory]\n",
      "Setting default log level to \"WARN\".\n",
      "To adjust logging level use sc.setLogLevel(newLevel). For SparkR, use setLogLevel(newLevel).\n"
     ]
    },
    {
     "name": "stdout",
     "output_type": "stream",
     "text": [
      "25/05/12 17:11:09 WARN Utils: Service 'SparkUI' could not bind on port 4040. Attempting port 4041.\n",
      "25/05/12 17:11:11 WARN Client: Neither spark.yarn.jars nor spark.yarn.archive is set, falling back to uploading libraries under SPARK_HOME.\n"
     ]
    }
   ],
   "source": [
    "from pyspark.sql import SparkSession\n",
    "\n",
    "spark = SparkSession \\\n",
    "    .builder \\\n",
    "    .appName(\"DIC EX 2 - group 36\") \\\n",
    "    .getOrCreate()\n",
    "sc = spark.sparkContext"
   ]
  },
  {
   "cell_type": "markdown",
   "id": "b36b6529-e715-4393-97be-3f36d9e254cd",
   "metadata": {
    "editable": true,
    "slideshow": {
     "slide_type": ""
    },
    "tags": []
   },
   "source": [
    "### Set path variables"
   ]
  },
  {
   "cell_type": "code",
   "execution_count": 2,
   "id": "efdf2c4c-cd22-429d-9937-5bf54249bc46",
   "metadata": {
    "editable": true,
    "slideshow": {
     "slide_type": ""
    },
    "tags": []
   },
   "outputs": [],
   "source": [
    "data_path = \"hdfs:///user/dic25_shared/amazon-reviews/full/reviews_devset.json\"\n",
    "stopwords_path = \"stopwords.txt\"\n",
    "output_path = \"output_rdd.txt\""
   ]
  },
  {
   "cell_type": "markdown",
   "id": "a5de0bc7-3f76-48eb-865a-0889b004c1ef",
   "metadata": {
    "editable": true,
    "slideshow": {
     "slide_type": ""
    },
    "tags": []
   },
   "source": [
    "### Load data"
   ]
  },
  {
   "cell_type": "code",
   "execution_count": 3,
   "id": "402c5577-b0fd-47da-86d8-d87dd13afdde",
   "metadata": {
    "editable": true,
    "slideshow": {
     "slide_type": ""
    },
    "tags": []
   },
   "outputs": [
    {
     "name": "stderr",
     "output_type": "stream",
     "text": [
      "                                                                                "
     ]
    },
    {
     "data": {
      "text/plain": [
       "{'reviewerID': 'A2VNYWOPJ13AFP',\n",
       " 'asin': '0981850006',\n",
       " 'reviewerName': 'Amazon Customer \"carringt0n\"',\n",
       " 'helpful': [6, 7],\n",
       " 'reviewText': \"This was a gift for my other husband.  He's making us things from it all the time and we love the food.  Directions are simple, easy to read and interpret, and fun to make.  We all love different kinds of cuisine and Raichlen provides recipes from everywhere along the barbecue trail as he calls it. Get it and just open a page.  Have at it.  You'll love the food and it has provided us with an insight into the culture that produced it. It's all about broadening horizons.  Yum!!\",\n",
       " 'overall': 5.0,\n",
       " 'summary': 'Delish',\n",
       " 'unixReviewTime': 1259798400,\n",
       " 'reviewTime': '12 3, 2009',\n",
       " 'category': 'Patio_Lawn_and_Garde'}"
      ]
     },
     "execution_count": 3,
     "metadata": {},
     "output_type": "execute_result"
    }
   ],
   "source": [
    "import json\n",
    "rdd_json = sc.textFile(data_path).map(json.loads).persist()\n",
    "rdd_json.first()"
   ]
  },
  {
   "cell_type": "markdown",
   "id": "78a6fb84-4eac-4b1e-b155-e671e80a5057",
   "metadata": {},
   "source": [
    "## Prepare Data\n",
    "### Tokenize, Lowecase and Remove Stopwords"
   ]
  },
  {
   "cell_type": "code",
   "execution_count": 4,
   "id": "6946f5fc-8def-487d-a05c-9c8e41c82522",
   "metadata": {},
   "outputs": [
    {
     "name": "stderr",
     "output_type": "stream",
     "text": [
      "                                                                                "
     ]
    },
    {
     "data": {
      "text/plain": [
       "[('Patio_Lawn_and_Garde', 'gift'),\n",
       " ('Patio_Lawn_and_Garde', 'husband'),\n",
       " ('Patio_Lawn_and_Garde', 'making'),\n",
       " ('Patio_Lawn_and_Garde', 'things'),\n",
       " ('Patio_Lawn_and_Garde', 'time'),\n",
       " ('Patio_Lawn_and_Garde', 'love'),\n",
       " ('Patio_Lawn_and_Garde', 'food'),\n",
       " ('Patio_Lawn_and_Garde', 'directions'),\n",
       " ('Patio_Lawn_and_Garde', 'simple'),\n",
       " ('Patio_Lawn_and_Garde', 'easy')]"
      ]
     },
     "execution_count": 4,
     "metadata": {},
     "output_type": "execute_result"
    }
   ],
   "source": [
    "import re, string\n",
    "\n",
    "def load_stopwords(path: str) -> list[str]:\n",
    "    \"\"\"\n",
    "    Load stopwords from a file efficiently.\n",
    "    \"\"\"\n",
    "    stopwords = set()\n",
    "    with open(path, \"r\", encoding=\"utf-8\") as f:\n",
    "        stopwords = set(line.strip() for line in f if line.strip())\n",
    "    return list(stopwords)\n",
    "\n",
    "re_split = re.compile(\n",
    "    r\"[ \\t\\r\\n\\d\\(\\)\\[\\]\\{\\}\\.\\!\\?,;:+=\\-_\\\"'`~#@&*%€$§\\\\/]+\"\n",
    ")\n",
    "stop = load_stopwords(stopwords_path)\n",
    "stop_bc = sc.broadcast(stop)\n",
    "\n",
    "def clean_tokens(row):\n",
    "    cat = row[\"category\"]\n",
    "    text = row[\"reviewText\"]\n",
    "    stop = stop_bc.value \n",
    "    terms = [t.lower() for t in re_split.split(text) if t]\n",
    "    terms = [t for t in terms if t not in stop]\n",
    "    return [(cat, t) for t in terms]\n",
    "\n",
    "data = rdd_json.flatMap(clean_tokens).persist()    \n",
    "\n",
    "data.take(10)"
   ]
  },
  {
   "cell_type": "markdown",
   "id": "1cc19f4e-e0a3-4e68-ae5b-4fe499f288f8",
   "metadata": {},
   "source": [
    "## Frequency counts"
   ]
  },
  {
   "cell_type": "code",
   "execution_count": 5,
   "id": "21bcce9b-ceac-4154-ad43-bcb216e7e7e6",
   "metadata": {},
   "outputs": [],
   "source": [
    "cat_term_freq = (\n",
    "    data\n",
    "      .map(lambda ct: (ct, 1))\n",
    "      .reduceByKey(lambda a, b: a + b)\n",
    "      .persist()\n",
    ")"
   ]
  },
  {
   "cell_type": "code",
   "execution_count": 6,
   "id": "4e0b3a75-679a-4763-b0f6-b00d410f21a7",
   "metadata": {},
   "outputs": [
    {
     "name": "stderr",
     "output_type": "stream",
     "text": [
      "                                                                                "
     ]
    }
   ],
   "source": [
    "term_totals = (\n",
    "    data\n",
    "      .map(lambda x: (x[1], 1))          # (term t, 1)\n",
    "      .reduceByKey(lambda a, b: a + b)     # (term t, n_*t - occurences of t summed over all categories)\n",
    "      .collectAsMap()\n",
    ")"
   ]
  },
  {
   "cell_type": "code",
   "execution_count": 7,
   "id": "f1dadeb2-c2a0-4d1a-9959-0f2d0e96212c",
   "metadata": {},
   "outputs": [
    {
     "name": "stderr",
     "output_type": "stream",
     "text": [
      "                                                                                "
     ]
    }
   ],
   "source": [
    "cat_totals = (\n",
    "    data\n",
    "      .map(lambda x: (x[0], 1))      # (category c, 1)\n",
    "      .reduceByKey(lambda a, b: a + b)     # (category c, n_c* - number of all terms in that category)\n",
    "      .collectAsMap()\n",
    ")"
   ]
  },
  {
   "cell_type": "code",
   "execution_count": 8,
   "id": "fa92f9a9-413f-4a45-8b2b-d03ea3f18bfb",
   "metadata": {},
   "outputs": [],
   "source": [
    "# n - total terms over all categories\n",
    "n_total = sum(cat_totals.values())"
   ]
  },
  {
   "cell_type": "code",
   "execution_count": 9,
   "id": "65c4af5d-42a6-4381-9722-fd6823d7d656",
   "metadata": {},
   "outputs": [],
   "source": [
    "term_totals_bc = sc.broadcast(term_totals)\n",
    "cat_totals_bc  = sc.broadcast(cat_totals)\n",
    "n_bc        = sc.broadcast(n_total)"
   ]
  },
  {
   "cell_type": "markdown",
   "id": "5fa439ab-b250-4754-a1c9-125f0c04e9db",
   "metadata": {},
   "source": [
    "## Chi-Squared Computation"
   ]
  },
  {
   "cell_type": "code",
   "execution_count": 10,
   "id": "49b03c6d-e4ef-40f8-a3ca-d274a0e9a442",
   "metadata": {},
   "outputs": [],
   "source": [
    "def chisq(record):\n",
    "    (cat, term), n_ct = record\n",
    "    n_t = term_totals_bc.value[term]\n",
    "    n_c = cat_totals_bc.value[cat]\n",
    "    n    = n_bc.value\n",
    "    expected = n_t * n_c / n\n",
    "    chi2 = (n_ct - expected) ** 2 / expected if expected else 0.0\n",
    "    return (cat, (term, chi2))\n",
    "\n",
    "rdd_chisq = cat_term_freq.map(chisq)"
   ]
  },
  {
   "cell_type": "markdown",
   "id": "076a643b-078b-424b-9129-6bc7861de16f",
   "metadata": {},
   "source": [
    "## Top 75 terms per category"
   ]
  },
  {
   "cell_type": "code",
   "execution_count": 11,
   "id": "1eb747e4-679a-4aa4-90e4-f3cabd66a8be",
   "metadata": {},
   "outputs": [],
   "source": [
    "K = 75\n",
    "top_per_cat = (\n",
    "    rdd_chisq\n",
    "      .groupByKey()                             # (cat, iterable)\n",
    "      .mapValues(lambda it:                          # sort descending (in-memory)\n",
    "                 sorted(it, key=lambda x: -x[1])[:K])\n",
    "      .persist()\n",
    ")\n",
    "\n",
    "category_lines = top_per_cat.map(lambda cat_terms: \n",
    "    cat_terms[0] + \" \" + \n",
    "    \" \".join(f\"{term}:{chi:.6f}\" for term, chi in cat_terms[1])\n",
    ")"
   ]
  },
  {
   "cell_type": "code",
   "execution_count": 12,
   "id": "62339b1c-03ef-41a6-9ef9-56bb20b42f3e",
   "metadata": {},
   "outputs": [
    {
     "name": "stderr",
     "output_type": "stream",
     "text": [
      "                                                                                "
     ]
    }
   ],
   "source": [
    "joined_dict = (\n",
    "    top_per_cat\n",
    "      .flatMap(lambda x: [term for term, _ in x[1]])   # just the strings\n",
    "      .distinct()\n",
    "    .collect()\n",
    ")"
   ]
  },
  {
   "cell_type": "code",
   "execution_count": 13,
   "id": "0a69f584-a3c8-4bba-ba6d-056768902879",
   "metadata": {},
   "outputs": [],
   "source": [
    "joined_dict.sort()\n",
    "dict_line = \" \".join(joined_dict)"
   ]
  },
  {
   "cell_type": "code",
   "execution_count": 14,
   "id": "d56cba69-59cc-41b0-a754-2e3591cd6b5c",
   "metadata": {},
   "outputs": [],
   "source": [
    "all_lines = category_lines.collect() + [dict_line]\n",
    "\n",
    "with open(\"output_rdd.txt\", \"w\", encoding=\"utf-8\") as f:\n",
    "    f.write(\"\\n\".join(all_lines))\n",
    "\n",
    " "
   ]
  },
  {
   "cell_type": "markdown",
   "id": "3ac7c352-6b53-41f4-aae1-529ed56c262a",
   "metadata": {},
   "source": [
    "## Test"
   ]
  },
  {
   "cell_type": "code",
   "execution_count": 15,
   "id": "6b873273-7620-412d-a636-898bb6af3872",
   "metadata": {},
   "outputs": [
    {
     "name": "stderr",
     "output_type": "stream",
     "text": [
      "                                                                                "
     ]
    },
    {
     "data": {
      "text/plain": [
       "[('Patio_Lawn_and_Garde', ('plants', 2776.0402487639853)),\n",
       " ('Patio_Lawn_and_Garde', ('feeder', 2137.1335792021955)),\n",
       " ('Patio_Lawn_and_Garde', ('lawn', 2067.362695269985)),\n",
       " ('Patio_Lawn_and_Garde', ('yard', 1974.2790226500385)),\n",
       " ('Patio_Lawn_and_Garde', ('seeds', 1960.277872189091)),\n",
       " ('Patio_Lawn_and_Garde', ('seed', 1955.2784922235153)),\n",
       " ('Patio_Lawn_and_Garde', ('grass', 1931.802541885193)),\n",
       " ('Patio_Lawn_and_Garde', ('smoker', 1820.405663778677)),\n",
       " ('Patio_Lawn_and_Garde', ('traps', 1721.5338462230538)),\n",
       " ('Patio_Lawn_and_Garde', ('pool', 1659.1594264969642))]"
      ]
     },
     "execution_count": 15,
     "metadata": {},
     "output_type": "execute_result"
    }
   ],
   "source": [
    "# top 10 in arbitrary category\n",
    "(rdd_chisq\n",
    "   .filter(lambda x: x[0] == \"Patio_Lawn_and_Garde\")\n",
    "   .takeOrdered(10, key=lambda x: -x[1][1]))"
   ]
  },
  {
   "cell_type": "markdown",
   "id": "a55f6aec-64ed-4e02-b353-729dacd5d86b",
   "metadata": {},
   "source": [
    "## Check whether output directory already exists and delete with these commands to rerun"
   ]
  },
  {
   "cell_type": "code",
   "execution_count": 16,
   "id": "bbff13cf-376c-40be-b22f-1d8fe1435f52",
   "metadata": {},
   "outputs": [
    {
     "name": "stdout",
     "output_type": "stream",
     "text": [
      "Found 6 items\n",
      "drwxr-xr-x   - e12412672 supergroup          0 2025-05-12 17:11 .sparkStaging\n",
      "drwxr-xr-x   - e12412672 supergroup          0 2025-03-26 20:38 books\n",
      "drwxr-xr-x   - e12412672 supergroup          0 2025-05-11 21:12 feature_pipe_part2\n",
      "drwxr-xr-x   - e12412672 supergroup          0 2025-05-11 21:16 models\n",
      "drwxr-xr-x   - e12412672 supergroup          0 2025-05-12 16:20 output_rdd.txt\n",
      "drwxr-xr-x   - e12412672 supergroup          0 2025-03-26 20:40 tmp\n"
     ]
    }
   ],
   "source": [
    "!hdfs dfs -ls"
   ]
  },
  {
   "cell_type": "code",
   "execution_count": 17,
   "id": "30ef6c03-f26c-4590-9c66-137dcfa9d984",
   "metadata": {},
   "outputs": [],
   "source": [
    "#!hdfs dfs -rm -r"
   ]
  }
 ],
 "metadata": {
  "kernelspec": {
   "display_name": "Python 3",
   "language": "python",
   "name": "python3"
  },
  "language_info": {
   "codemirror_mode": {
    "name": "ipython",
    "version": 3
   },
   "file_extension": ".py",
   "mimetype": "text/x-python",
   "name": "python",
   "nbconvert_exporter": "python",
   "pygments_lexer": "ipython3",
   "version": "3.9.20"
  }
 },
 "nbformat": 4,
 "nbformat_minor": 5
}
