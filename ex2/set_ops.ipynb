{
 "cells": [
  {
   "cell_type": "code",
   "execution_count": 8,
   "id": "00658e5d-e03e-4a6b-86f0-d485122f30c4",
   "metadata": {},
   "outputs": [],
   "source": [
    "ex1 = set()\n",
    "ex2 = set()\n",
    "\n",
    "with open(\"../ex1/output_small_new.txt\", \"r\") as f_ex1, open(\"output_ds.txt\", \"r\") as f_ex2:\n",
    "    ex1_last_line = [l2 for l2 in (l1.strip() for l1 in f_ex1) if l2][-1]\n",
    "    ex1 = set(ex1_last_line.strip().split(\" \"))\n",
    "    ex2 = set(next(f_ex2).strip().split(\" \"))"
   ]
  },
  {
   "cell_type": "markdown",
   "id": "af9fa44d-a473-4ea4-a248-3594bc58866a",
   "metadata": {},
   "source": [
    "# Intersection"
   ]
  },
  {
   "cell_type": "code",
   "execution_count": 9,
   "id": "48573537-1894-4846-87df-41762802bce8",
   "metadata": {},
   "outputs": [
    {
     "name": "stdout",
     "output_type": "stream",
     "text": [
      "{'quot', 'fit', 'world', 'year', 'watch', 'size', 'music', 'put', 'back', 'price', 'man', 'made', 'family', 'nice', 'enjoyed', 'sound', 'buy', 'characters', 'found', 'loved', 'series', 'bought', 'written', 'people', 'light', 'character', 'end', 'years', 'reading', 'interesting', 'quality', 'author', 'works'}\n"
     ]
    }
   ],
   "source": [
    "print(ex1.intersection(ex2))"
   ]
  },
  {
   "cell_type": "markdown",
   "id": "b6b3c64e-84f8-4147-8830-6dcbd44574df",
   "metadata": {},
   "source": [
    "# Difference"
   ]
  },
  {
   "cell_type": "markdown",
   "id": "0f842775-cc9e-4826-837c-a013d827f693",
   "metadata": {},
   "source": [
    "### In 2 but not 1"
   ]
  },
  {
   "cell_type": "code",
   "execution_count": 10,
   "id": "42ea2b31-843b-434c-9fb8-577f082aa18c",
   "metadata": {},
   "outputs": [
    {
     "name": "stdout",
     "output_type": "stream",
     "text": [
      "{'wanted', 'recommend', 'work', 'make', 'purchased', 'review', 'find', 'makes', 'love', 'excellent', 'problem', 'worth', 'purchase', 'bit', 'small', 'big', 'times', 'high', 'great', 'give', 'set', 'thought', 'time', 'amazon', 'long', 'pretty', 'part', 'money', 'thing', 'job', 'hard', 'feel', 'lot', 'things', 'day', 'good', 'perfect', 'bad', 'highly', 'easy', 'real', 'happy'}\n"
     ]
    }
   ],
   "source": [
    "print(ex2 - ex1)"
   ]
  },
  {
   "cell_type": "markdown",
   "id": "82fc7e0f-e22d-4e6e-ae17-6a52fb6caf37",
   "metadata": {},
   "source": [
    "### In 1 but not 2"
   ]
  },
  {
   "cell_type": "code",
   "execution_count": 12,
   "id": "ce513bef-3578-4165-84ca-e40072fd6ade",
   "metadata": {},
   "outputs": [
    {
     "name": "stdout",
     "output_type": "stream",
     "text": [
      "{'usb', 'fender', 'handlebars', 'scanner', 'litterbox', 'carpet', 'lives', 'director', 'mahjong', 'relationship', 'blues', 'carafe', 'educational', 'months', 'transformers', 'fruit', 'lashes', 'smooth', 'awesome', 'spangled', 'numark', 'vocals', 'wanting', 'germination', 'finds', 'gluten', 'leapfrog', 'wavy', 'sense', 'receiver', 'shiba', 'dry', 'bra', 'mat', 'healthy', 'artisan', 'shows', 'favorite', 'devlin', 'landline', 'bottles', 'port', 'lifeproof', 'ports', 'apps', 'stylish', 'reference', 'heater', 'soil', 'smell', 'outfit', 'powder', 'dvd', 'pou', 'macbook', 'spaniel', 'connect', 'sole', 'trucks', 'bait', 'installation', 'ring', 'doug', 'oil', 'microphones', 'kitty', 'cage', 'graco', 'eyelashes', 'feeders', 'special', 'software', 'straightener', 'playtex', 'oils', 'pendant', 'concealer', 'footbed', 'reader', 'worn', 'complexion', 'condenser', 'crashing', 'lens', 'nails', 'tv', 'bass', 'mug', 'bathroom', 'silky', 'makita', 'honda', 'petsmart', 'intonation', 'pocket', 'grass', 'irig', 'grip', 'uninstall', 'ebook', 'mascara', 'motorola', 'fans', 'gps', 'scalp', 'fur', 'tea', 'shaves', 'defender', 'avery', 'bright', 'documentary', 'record', 'granddaughter', 'otter', 'drip', 'rap', 'weeks', 'syrup', 'teether', 'fellowes', 'xlr', 'entertainment', 'collars', 'epiphone', 'sneakers', 'rottweiler', 'television', 'fragrance', 'dolls', 'milwaukee', 'power', 'bugs', 'glock', 'cooks', 'cover', 'directed', 'dusk', 'cookies', 'bulky', 'exhaust', 'distortion', 'storyline', 'installed', 'zeroed', 'barbie', 'cook', 'crusin', 'turntables', 'salt', 'coffeemaker', 'butter', 'receipts', 'sweater', 'historical', 'gas', 'poles', 'mousepad', 'fountain', 'chihuahua', 'articulation', 'trunk', 'potted', 'pedals', 'card', 'harness', 'free', 'radio', 'cymbal', 'ms', 'patio', 'furminator', 'ridgid', 'granola', 'filter', 'oem', 'show', 'cambogia', 'bluetooth', 'iphone', 'mags', 'page', 'soothie', 'garcinia', 'plastic', 'grand', 'hummingbirds', 'wiper', 'extras', 'convertible', 'piano', 'study', 'cast', 'violin', 'entertaining', 'wipers', 'animation', 'dimmable', 'daughter', 'deodorant', 'comedy', 'lawn', 'cuisinart', 'hackett', 'dice', 'products', 'geraniums', 'weights', 'logitech', 'erase', 'interest', 'paper', 'puppies', 'filters', 'tanning', 'poulan', 'gun', 'rehearsing', 'listening', 'scooter', 'tazo', 'collection', 'grinder', 'readers', 'band', 'swallow', 'pain', 'eat', 'wuhan', 'heats', 'god', 'portable', 'blankets', 'protect', 'cleaning', 'mystery', 'riding', 'string', 'mow', 'yodeling', 'comfy', 'artists', 'office', 'mowers', 'legos', 'hdmi', 'cinnamon', 'forward', 'pitcher', 'windows', 'led', 'device', 'personal', 'flea', 'wall', 'massage', 'plot', 'challenging', 'coffees', 'underoath', 'jittery', 'garage', 'fabric', 'understanding', 'vehicle', 'challenge', 'protein', 'son', 'crv', 'colicky', 'ar', 'planted', 'flavors', 'chocolates', 'history', 'adorable', 'vacuum', 'husqvarna', 'deoxit', 'cables', 'snare', 'staplers', 'burners', 'bulb', 'technica', 'steamy', 'mxr', 'collar', 'refills', 'coals', 'seasons', 'figures', 'preamp', 'irritation', 'lid', 'spf', 'video', 'remodel', 'lg', 'face', 'gel', 'rc', 'shaver', 'shiny', 'darts', 'screenplay', 'detailer', 'dance', 'rear', 'energy', 'microwave', 'solo', 'behringer', 'authors', 'helicopters', 'unlocked', 'bloops', 'addicted', 'pruner', 'ooma', 'playset', 'petco', 'tray', 'cds', 'remake', 'effects', 'sunflower', 'stories', 'saddle', 'airsoft', 'fragrances', 'smartphone', 'prints', 'role', 'whey', 'puzzles', 'calculator', 'pieces', 'voice', 'perfectly', 'clasp', 'organic', 'breastfeeding', 'sonicare', 'hasbro', 'recordings', 'flavored', 'lumen', 'watering', 'musicians', 'brewing', 'thermostat', 'sweetener', 'tracks', 'delco', 'perfumes', 'intrigue', 'tire', 'addario', 'mattel', 'carseats', 'nailer', 'ford', 'handset', 'perfume', 'swingline', 'teas', 'shaving', 'rattle', 'zoom', 'dressy', 'buttons', 'understand', 'cookware', 'lipo', 'schwinn', 'natural', 'lotions', 'fertilizer', 'vibrator', 'cartridges', 'sim', 'vocal', 'amp', 'films', 'grocery', 'levels', 'weed', 'jacket', 'punk', 'granddaughters', 'squirrels', 'iced', 'cis', 'paw', 'crashes', 'indie', 'breastfed', 'razors', 'tires', 'listened', 'swampy', 'sweet', 'toyota', 'action', 'kids', 'season', 'eyeshadow', 'paint', 'lathe', 'glitches', 'printed', 'dosage', 'cab', 'puzzle', 'heroine', 'drive', 'toe', 'cotton', 'wav', 'chews', 'coins', 'room', 'examples', 'suspense', 'pacifier', 'creamy', 'erasers', 'dealership', 'fixtures', 'doctor', 'htc', 'gmc', 'kennel', 'chewy', 'ballasts', 'bowl', 'strollers', 'bilt', 'oily', 'durable', 'cleanser', 'cereals', 'gig', 'cinema', 'bread', 'pillows', 'hammock', 'withers', 'maglite', 'streamlight', 'jewelry', 'sprayer', 'decks', 'timer', 'animated', 'frisbee', 'tuners', 'rosin', 'headlight', 'downloaded', 'brighter', 'scratches', 'curly', 'mag', 'supplements', 'addictive', 'writing', 'tasted', 'sprinklers', 'ordered', 'kettle', 'shampoo', 'live', 'lights', 'babies', 'poster', 'arrangements', 'worked', 'pillow', 'ideas', 'camping', 'cube', 'sing', 'melodies', 'edc', 'swaddle', 'gigs', 'recording', 'toaster', 'zagg', 'chandelier', 'broke', 'handsets', 'scans', 'shirt', 'color', 'tools', 'hea', 'watching', 'drum', 'wash', 'cordless', 'pentel', 'compliments', 'water', 'ear', 'edger', 'chocolate', 'urine', 'printers', 'corn', 'bed', 'crunchy', 'akai', 'nailers', 'sturdy', 'reclined', 'rail', 'muffler', 'protectors', 'mice', 'zynga', 'nokia', 'krall', 'factory', 'compilation', 'leash', 'battery', 'material', 'envelopes', 'pup', 'instrument', 'taillight', 'scent', 'pistol', 'sung', 'naps', 'bicycle', 'bumper', 'weight', 'folders', 'chargers', 'shampoos', 'copier', 'charging', 'bikes', 'aquarium', 'frets', 'hairs', 'cats', 'leaf', 'viewer', 'switch', 'rash', 'songstress', 'sexy', 'doggy', 'narrow', 'results', 'chorus', 'episodes', 'highchair', 'android', 'birds', 'fixture', 'intercom', 'sippy', 'guitars', 'treat', 'compost', 'script', 'vhs', 'kibble', 'traps', 'monoxide', 'gaskets', 'dulcimer', 'fluorescent', 'ride', 'sex', 'download', 'moisturized', 'mp', 'external', 'shirts', 'greasy', 'steam', 'shredder', 'recipes', 'dollhouse', 'dimmer', 'reeds', 'leashes', 'keyboard', 'resistor', 'sink', 'passenger', 'apply', 'anime', 'tunes', 'bottom', 'heel', 'eraser', 'jeans', 'fits', 'sweat', 'files', 'boppy', 'pots', 'released', 'pores', 'mac', 'yorkie', 'heat', 'gloves', 'pen', 'litter', 'volt', 'bitter', 'pc', 'journey', 'footage', 'wheels', 'heli', 'ipad', 'alpha', 'catnip', 'sounds', 'verizon', 'skirt', 'dorman', 'blades', 'seasoning', 'dvds', 'jazz', 'writes', 'cars', 'teeth', 'hear', 'dymo', 'norelco', 'sander', 'trs', 'mg', 'crib', 'goggles', 'grandson', 'protection', 'wireless', 'ruger', 'torque', 'brush', 'protected', 'feeder', 'necklace', 'sks', 'inkjet', 'lotion', 'bluesy', 'feeding', 'niece', 'scanned', 'funk', 'rented', 'mats', 'subject', 'buick', 'learn', 'tale', 'huggable', 'plant', 'corgi', 'planting', 'seed', 'feelings', 'lavalier', 'cups', 'mixer', 'alternator', 'cologne', 'lexmark', 'lather', 'bras', 'silverado', 'ants', 'strobe', 'headsets', 'mfc', 'decaf', 'hazelnut', 'pop', 'knowledge', 'kia', 'flour', 'earrings', 'play', 'coupe', 'diet', 'hummingbird', 'weathertech', 'theatrical', 'lithium', 'midi', 'warm', 'borderless', 'scanning', 'adapter', 'addicting', 'asus', 'landscaper', 'remote', 'dremel', 'mugs', 'nail', 'copter', 'phones', 'hercules', 'epson', 'dough', 'rapping', 'text', 'clip', 'musically', 'glass', 'sings', 'smoker', 'bichon', 'headset', 'speakerphone', 'cute', 'drums', 'tuning', 'collectible', 'hose', 'grandsons', 'barrel', 'singing', 'uninstalling', 'mic', 'costume', 'bib', 'pixma', 'knives', 'cartridge', 'honest', 'errors', 'charger', 'tranny', 'acoustic', 'nipples', 'pills', 'flappy', 'plays', 'screws', 'drop', 'hitch', 'setup', 'engine', 'fleas', 'lids', 'soles', 'diapering', 'printing', 'pool', 'cher', 'lcd', 'actors', 'aired', 'mpg', 'lamps', 'snack', 'editing', 'bushes', 'flick', 'mulch', 'molle', 'plants', 'peanut', 'developer', 'acted', 'cameras', 'sandals', 'singers', 'cymbals', 'grips', 'teething', 'shavers', 'maschine', 'tasty', 'chapter', 'cord', 'dishwasher', 'nissan', 'drill', 'brace', 'golf', 'upbeat', 'pet', 'grilling', 'catchy', 'soils', 'sprint', 'lbs', 'disc', 'interested', 'ceiling', 'novels', 'intex', 'rides', 'unit', 'blower', 'bits', 'felt', 'solitaire', 'dumbbells', 'rock', 'funny', 'galaxy', 'sudoku', 'moisturizing', 'permissions', 'curl', 'tiller', 'printhead', 'headlights', 'concert', 'logos', 'faotd', 'bored', 'stainless', 'visors', 'beard', 'sleepsacks', 'trimmer', 'mobile', 'screwdriver', 'polish', 'sd', 'sodium', 'playlist', 'brushes', 'pickguard', 'flavoring', 'cereal', 'inks', 'groove', 'powerfast', 'arnley', 'deskjet', 'coat', 'doh', 'sinus', 'banjo', 'brew', 'caffeine', 'scene', 'decal', 'kittens', 'actress', 'fire', 'ep', 'moisturizer', 'tool', 'stapling', 'stomach', 'bulldog', 'cream', 'medela', 'stapler', 'track', 'roaches', 'kitten', 'dealer', 'cracked', 'iphones', 'rent', 'drying', 'computer', 'pens', 'binders', 'blackberry', 'lego', 'vitamins', 'watt', 'guide', 'nikon', 'munchkin', 'fan', 'heard', 'ending', 'pacifiers', 'otterbox', 'gallon', 'musical', 'keurig', 'moisturizers', 'salty', 'mam', 'tuner', 'avent', 'instrumental', 'holster', 'sprout', 'tank', 'fretboard', 'movies', 'carseat', 'mics', 'twist', 'performance', 'downloading', 'backpacking', 'hat', 'contractor', 'mirror', 'nerf', 'halogen', 'barking', 'capsules', 'blu', 'breast', 'musicianship', 'dentist', 'protector', 'ibanez', 'orchestra', 'plugged', 'chewed', 'intriguing', 'uniden', 'burp', 'suction', 'calcium', 'erotic', 'upgrades', 'seeds', 'ammo', 'bowls', 'sauce', 'workout', 'dyson', 'vet', 'cat', 'charges', 'cooking', 'pencil', 'slippers', 'creatine', 'bristles', 'young', 'desk', 'truss', 'waster', 'drinker', 'dryer', 'prefolds', 'door', 'meguiar', 'acting', 'laser', 'altima', 'adventure', 'information', 'odor', 'tune', 'acne', 'batteries', 'desktop', 'pump', 'frizz', 'windshield', 'acdelco', 'short', 'sandal', 'lb', 'figure', 'cocoa', 'acre', 'diaper', 'questions', 'chicco', 'flavorful', 'mah', 'staples', 'counter', 'subaru', 'flattering', 'integra', 'firearm', 'chair', 'instruments', 'screw', 'rubber', 'slim', 'carrier', 'developed', 'bracelet', 'poop', 'shifter', 'samsung', 'birthday', 'router', 'watched', 'hints', 'gift', 'songwriting', 'curling', 'supplement', 'texture', 'lipstick', 'episode', 'oven', 'played', 'bbq', 'emg', 'cases', 'finished', 'apple', 'hydroponics', 'rubberized', 'sounding', 'boots', 'button', 'pack', 'fax', 'papers', 'believable', 'disney', 'sheets', 'capo', 'sims', 'pencils', 'weber', 'microphone', 'leather', 'sprouted', 'prefold', 'rifle', 'stains', 'britax', 'carry', 'candy', 'eyeliner', 'tablet', 'labels', 'scenes', 'ballad', 'food', 'tpu', 'headphones', 'pound', 'christmas', 'hydrating', 'camry', 'pharrell', 'breakfast', 'crackers', 'boot', 'vanilla', 'hollywood', 'curls', 'lab', 'toothbrush', 'wore', 'laughs', 'bearings', 'mode', 'novella', 'sharpeners', 'tetris', 'facebook', 'flashlights', 'screen', 'wait', 'bottle', 'edges', 'teamlava', 'human', 'vehicles', 'gb', 'serum', 'tent', 'games', 'children', 'chemistry', 'chew', 'bands', 'cards', 'germinated', 'classic', 'berserker', 'starbucks', 'fuel', 'oral', 'diapers', 'stubble', 'subtitles', 'milk', 'fiction', 'pan', 'clean', 'riffs', 'crate', 'speakers', 'handle', 'cooker', 'sizes', 'rice', 'swaddling', 'husky', 'espresso', 'blender', 'casual', 'adjustment', 'cliffhanger', 'drink', 'paranormal', 'shoe', 'stylus', 'pill', 'beam', 'amplitube', 'dunlop', 'posable', 'sunscreen', 'player', 'wrist', 'feet', 'canon', 'machine', 'toddler', 'seat', 'yard', 'blade', 'camelbak', 'cabs', 'sore', 'stove', 'playing', 'listener', 'gs', 'falsetto', 'minecraft', 'kickstand', 'ballads', 'melody', 'bleeps', 'events', 'mowed', 'kid', 'cup', 'footswitch', 'razor', 'refill', 'swelling', 'sizing', 'nuk', 'artist', 'skil', 'terrier', 'colors', 'scents', 'recorded', 'unlock', 'sony', 'listen', 'pair', 'plug', 'puppy', 'nudity', 'soulful', 'soft', 'texting', 'talented', 'chapters', 'trailer', 'baking', 'swaddled', 'records', 'braun', 'pedal', 'pickups', 'potty', 'illustrations', 'blanket', 'tasting', 'freezes', 'deleted', 'train', 'atv', 'singer', 'delicious', 'stuffed', 'glu', 'casting', 'scan', 'steering', 'treats', 'yamaha', 'shepherd', 'wubbanub', 'coconut', 'sweetened', 'shimano', 'conditioner', 'binder', 'seismic', 'evenflo', 'replace', 'spicy', 'bosch', 'gillette', 'infant', 'breakouts', 'comforter', 'sculpt', 'lyrics', 'woman', 'melodic', 'release', 'heating', 'jeep', 'charge', 'yr', 'blankie', 'sockets', 'signal', 'gear', 'lyrically', 'lumens', 'yummy', 'kong', 'bird', 'antenna', 'pomeranian', 'caramel', 'print', 'ocarina', 'cinematography', 'ads', 'cuddly', 'chevy', 'straps', 'month', 'brain', 'driveway', 'guitarist', 'dewalt', 'dropped', 'monitor', 'shower', 'hp', 'orijen', 'hd', 'pants', 'rocksmith', 'flowering', 'gasket', 'droid', 'reads', 'nursery', 'remanufactured', 'speaker', 'vitamin', 'multiplayer', 'taking', 'heart', 'tight', 'bingo', 'wears', 'published', 'sealant', 'arch', 'pairs', 'kindle', 'board', 'balls', 'rack', 'newborn', 'cable', 'bassinet', 'pans', 'relief', 'thermometer', 'leggings', 'aftertaste', 'albums', 'kensun', 'nib', 'scale', 'makeup', 'nage', 'tub', 'foot', 'pliers', 'epi', 'redness', 'steamer', 'roles', 'tan', 'grind', 'nipple', 'frizzy', 'mattress', 'almonds', 'gameplay', 'wrench', 'gameloft', 'ipod', 'hits', 'scope', 'viewers', 'showerhead', 'comfortable', 'plush', 'smells', 'ray', 'flashlight', 'loves', 'chewer', 'depot', 'soundtrack', 'pour', 'spigen', 'acura', 'ball', 'petsafe', 'bubbles', 'helmet', 'sheath', 'flash', 'metronome', 'cfl', 'faucet', 'sugar', 'romance', 'waist', 'mouse', 'audio', 'pages', 'grills', 'child', 'salon', 'viewing', 'retriever', 'ketones', 'wooden', 'production', 'pot', 'bonnie', 'filmed', 'protective', 'insight', 'dpi', 'tastes', 'miter', 'earn', 'scooping', 'dress', 'suet', 'teethers', 'erotica', 'nastradamus', 'clumping', 'performances', 'sprinkler', 'actor', 'soap', 'juicer', 'roast', 'kitties', 'ukulele', 'leatherman', 'protools', 'cravings', 'comb', 'snugride', 'wearing', 'civic', 'melissa', 'gate', 'motorcycle', 'appetite', 'cell', 'knopfler', 'writer', 'listens', 'answering', 'nephew', 'chewing', 'aroma', 'oatmeal', 'pretenders', 'paced', 'watches', 'curtain', 'maker', 'candies', 'weeds', 'wheel', 'charged', 'clarinet', 'toys', 'devices', 'recline', 'squirrel', 'cellphone', 'temperature', 'horror', 'socks', 'opi', 'bag', 'graphics', 'toner', 'garden', 'war', 'stevia', 'outgrew', 'bath', 'muscle', 'hilarious', 'poodle', 'calories', 'latch', 'trap', 'protects', 'pom', 'dodge', 'cgi', 'incandescent'}\n"
     ]
    }
   ],
   "source": [
    "print(ex1 - ex2)"
   ]
  },
  {
   "cell_type": "code",
   "execution_count": null,
   "id": "7fa76f1b-3bfe-49af-a7bc-ad5a6913a78a",
   "metadata": {},
   "outputs": [],
   "source": []
  }
 ],
 "metadata": {
  "kernelspec": {
   "display_name": "Python 3",
   "language": "python",
   "name": "python3"
  },
  "language_info": {
   "codemirror_mode": {
    "name": "ipython",
    "version": 3
   },
   "file_extension": ".py",
   "mimetype": "text/x-python",
   "name": "python",
   "nbconvert_exporter": "python",
   "pygments_lexer": "ipython3",
   "version": "3.9.20"
  }
 },
 "nbformat": 4,
 "nbformat_minor": 5
}
