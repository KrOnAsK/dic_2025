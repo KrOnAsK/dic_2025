{
 "cells": [
  {
   "cell_type": "markdown",
   "id": "875e7f04-c3e5-44d7-b604-9259bb131bd0",
   "metadata": {
    "editable": true,
    "slideshow": {
     "slide_type": ""
    },
    "tags": []
   },
   "source": [
    "# DIC EX2 - part 1"
   ]
  },
  {
   "cell_type": "markdown",
   "id": "ed4c9941-f61e-48f4-a5c3-01b2de8d45f9",
   "metadata": {
    "editable": true,
    "slideshow": {
     "slide_type": ""
    },
    "tags": []
   },
   "source": [
    "## Setup\n",
    "\n",
    "### Initialize Spark context"
   ]
  },
  {
   "cell_type": "code",
   "execution_count": 1,
   "id": "2590cf54-9939-4f23-be41-abff87d7ce14",
   "metadata": {
    "editable": true,
    "slideshow": {
     "slide_type": ""
    },
    "tags": []
   },
   "outputs": [
    {
     "name": "stderr",
     "output_type": "stream",
     "text": [
      "SLF4J: Class path contains multiple SLF4J bindings."
     ]
    },
    {
     "name": "stdout",
     "output_type": "stream",
     "text": [
      "25/05/06 13:02:18 WARN Utils: Service 'SparkUI' could not bind on port 4040. Attempting port 4041.\n"
     ]
    }
   ],
   "source": [
    "from pyspark.sql import SparkSession\n",
    "\n",
    "spark = SparkSession \\\n",
    "    .builder \\\n",
    "    .appName(\"DIC EX 2 - group 36\") \\\n",
    "    .getOrCreate()\n",
    "sc = spark.sparkContext"
   ]
  },
  {
   "cell_type": "markdown",
   "id": "b36b6529-e715-4393-97be-3f36d9e254cd",
   "metadata": {
    "editable": true,
    "slideshow": {
     "slide_type": ""
    },
    "tags": []
   },
   "source": [
    "### Set path variables"
   ]
  },
  {
   "cell_type": "code",
   "execution_count": 2,
   "id": "efdf2c4c-cd22-429d-9937-5bf54249bc46",
   "metadata": {
    "editable": true,
    "slideshow": {
     "slide_type": ""
    },
    "tags": []
   },
   "outputs": [],
   "source": [
    "data_path = \"hdfs:///user/dic25_shared/amazon-reviews/full/reviews_devset.json\"\n",
    "stopwords_path = \"stopwords.txt\"\n",
    "output_path = \"output_ds.txt\""
   ]
  },
  {
   "cell_type": "markdown",
   "id": "a5de0bc7-3f76-48eb-865a-0889b004c1ef",
   "metadata": {
    "editable": true,
    "slideshow": {
     "slide_type": ""
    },
    "tags": []
   },
   "source": [
    "### Load data"
   ]
  },
  {
   "cell_type": "code",
   "execution_count": 3,
   "id": "402c5577-b0fd-47da-86d8-d87dd13afdde",
   "metadata": {
    "editable": true,
    "slideshow": {
     "slide_type": ""
    },
    "tags": []
   },
   "outputs": [
    {
     "data": {
      "text/plain": [
       "{'reviewerID': 'A2VNYWOPJ13AFP',\n",
       " 'asin': '0981850006',\n",
       " 'reviewerName': 'Amazon Customer \"carringt0n\"',\n",
       " 'helpful': [6, 7],\n",
       " 'reviewText': \"This was a gift for my other husband.  He's making us things from it all the time and we love the food.  Directions are simple, easy to read and interpret, and fun to make.  We all love different kinds of cuisine and Raichlen provides recipes from everywhere along the barbecue trail as he calls it. Get it and just open a page.  Have at it.  You'll love the food and it has provided us with an insight into the culture that produced it. It's all about broadening horizons.  Yum!!\",\n",
       " 'overall': 5.0,\n",
       " 'summary': 'Delish',\n",
       " 'unixReviewTime': 1259798400,\n",
       " 'reviewTime': '12 3, 2009',\n",
       " 'category': 'Patio_Lawn_and_Garde'}"
      ]
     },
     "execution_count": 3,
     "metadata": {},
     "output_type": "execute_result"
    }
   ],
   "source": [
    "import json\n",
    "rdd_json = sc.textFile(data_path).map(json.loads).persist()\n",
    "rdd_json.first()"
   ]
  },
  {
   "cell_type": "markdown",
   "id": "78a6fb84-4eac-4b1e-b155-e671e80a5057",
   "metadata": {},
   "source": [
    "## Prepare Data\n",
    "### Tokenize, Lowecase and Remove Stopwords"
   ]
  },
  {
   "cell_type": "code",
   "execution_count": 4,
   "id": "6946f5fc-8def-487d-a05c-9c8e41c82522",
   "metadata": {},
   "outputs": [
    {
     "data": {
      "text/plain": [
       "[('Patio_Lawn_and_Garde', 'gift'),\n",
       " ('Patio_Lawn_and_Garde', 'husband'),\n",
       " ('Patio_Lawn_and_Garde', 'making'),\n",
       " ('Patio_Lawn_and_Garde', 'things'),\n",
       " ('Patio_Lawn_and_Garde', 'time'),\n",
       " ('Patio_Lawn_and_Garde', 'love'),\n",
       " ('Patio_Lawn_and_Garde', 'food'),\n",
       " ('Patio_Lawn_and_Garde', 'directions'),\n",
       " ('Patio_Lawn_and_Garde', 'simple'),\n",
       " ('Patio_Lawn_and_Garde', 'easy')]"
      ]
     },
     "execution_count": 4,
     "metadata": {},
     "output_type": "execute_result"
    }
   ],
   "source": [
    "import re, string\n",
    "\n",
    "def load_stopwords(path: str) -> list[str]:\n",
    "    \"\"\"\n",
    "    Load stopwords from a file efficiently.\n",
    "    \"\"\"\n",
    "    stopwords = set()\n",
    "    with open(path, \"r\", encoding=\"utf-8\") as f:\n",
    "        stopwords = set(line.strip() for line in f if line.strip())\n",
    "    return list(stopwords)\n",
    "\n",
    "re_split = re.compile(\n",
    "    r\"[ \\t\\r\\n\\d\\(\\)\\[\\]\\{\\}\\.\\!\\?,;:+=\\-_\\\"'`~#@&*%€$§\\\\/]+\"\n",
    ")\n",
    "stop = load_stopwords(stopwords_path)\n",
    "stop_bc = sc.broadcast(stop)\n",
    "\n",
    "def clean_tokens(row):\n",
    "    cat = row[\"category\"]\n",
    "    text = row[\"reviewText\"]\n",
    "    stop = stop_bc.value \n",
    "    terms = [t.lower() for t in re_split.split(text) if t]\n",
    "    terms = [t for t in terms if t not in stop]\n",
    "    return [(cat, t) for t in terms]\n",
    "\n",
    "data = rdd_json.flatMap(clean_tokens).persist()    \n",
    "\n",
    "data.take(10)"
   ]
  },
  {
   "cell_type": "markdown",
   "id": "1cc19f4e-e0a3-4e68-ae5b-4fe499f288f8",
   "metadata": {},
   "source": [
    "## Frequency counts"
   ]
  },
  {
   "cell_type": "code",
   "execution_count": 5,
   "id": "21bcce9b-ceac-4154-ad43-bcb216e7e7e6",
   "metadata": {},
   "outputs": [],
   "source": [
    "cat_term_freq = (\n",
    "    data\n",
    "      .map(lambda ct: (ct, 1))\n",
    "      .reduceByKey(lambda a, b: a + b)\n",
    "      .persist()\n",
    ")"
   ]
  },
  {
   "cell_type": "code",
   "execution_count": 6,
   "id": "4e0b3a75-679a-4763-b0f6-b00d410f21a7",
   "metadata": {},
   "outputs": [],
   "source": [
    "term_totals = (\n",
    "    data\n",
    "      .map(lambda x: (x[1], 1))          # (term t, 1)\n",
    "      .reduceByKey(lambda a, b: a + b)     # (term t, n_*t - occurences of t summed over all categories)\n",
    "      .collectAsMap()\n",
    ")"
   ]
  },
  {
   "cell_type": "code",
   "execution_count": 7,
   "id": "f1dadeb2-c2a0-4d1a-9959-0f2d0e96212c",
   "metadata": {},
   "outputs": [],
   "source": [
    "cat_totals = (\n",
    "    data\n",
    "      .map(lambda x: (x[0], 1))      # (category c, 1)\n",
    "      .reduceByKey(lambda a, b: a + b)     # (category c, n_c* - number of all terms in that category)\n",
    "      .collectAsMap()\n",
    ")"
   ]
  },
  {
   "cell_type": "code",
   "execution_count": 8,
   "id": "fa92f9a9-413f-4a45-8b2b-d03ea3f18bfb",
   "metadata": {},
   "outputs": [],
   "source": [
    "# n - total terms over all categories\n",
    "n_total = sum(cat_totals.values())"
   ]
  },
  {
   "cell_type": "code",
   "execution_count": 9,
   "id": "65c4af5d-42a6-4381-9722-fd6823d7d656",
   "metadata": {},
   "outputs": [],
   "source": [
    "term_totals_bc = sc.broadcast(term_totals)\n",
    "cat_totals_bc  = sc.broadcast(cat_totals)\n",
    "n_bc        = sc.broadcast(n_total)"
   ]
  },
  {
   "cell_type": "markdown",
   "id": "5fa439ab-b250-4754-a1c9-125f0c04e9db",
   "metadata": {},
   "source": [
    "## Chi-Squared Computation"
   ]
  },
  {
   "cell_type": "code",
   "execution_count": 10,
   "id": "49b03c6d-e4ef-40f8-a3ca-d274a0e9a442",
   "metadata": {},
   "outputs": [],
   "source": [
    "def chisq(record):\n",
    "    (cat, term), n_ct = record\n",
    "    n_t = term_totals_bc.value[term]\n",
    "    n_c = cat_totals_bc.value[cat]\n",
    "    n    = n_bc.value\n",
    "    expected = n_t * n_c / n\n",
    "    chi2 = (n_ct - expected) ** 2 / expected if expected else 0.0\n",
    "    return (cat, (term, chi2))\n",
    "\n",
    "rdd_chisq = cat_term_freq.map(chisq)"
   ]
  },
  {
   "cell_type": "markdown",
   "id": "076a643b-078b-424b-9129-6bc7861de16f",
   "metadata": {},
   "source": [
    "## Top 75 terms per category"
   ]
  },
  {
   "cell_type": "code",
   "execution_count": 11,
   "id": "1eb747e4-679a-4aa4-90e4-f3cabd66a8be",
   "metadata": {},
   "outputs": [],
   "source": [
    "K = 75\n",
    "top_per_cat = (\n",
    "    rdd_chisq\n",
    "      .groupByKey()                             # (cat, iterable)\n",
    "      .mapValues(lambda it:                          # sort descending (in-memory)\n",
    "                 sorted(it, key=lambda x: -x[1])[:K])\n",
    "      .persist()\n",
    ")"
   ]
  },
  {
   "cell_type": "code",
   "execution_count": 12,
   "id": "62339b1c-03ef-41a6-9ef9-56bb20b42f3e",
   "metadata": {},
   "outputs": [],
   "source": [
    "joined_dict = (\n",
    "    top_per_cat\n",
    "      .flatMap(lambda x: [term for term, _ in x[1]])   # just the strings\n",
    "      .distinct()\n",
    ")"
   ]
  },
  {
   "cell_type": "code",
   "execution_count": 13,
   "id": "d56cba69-59cc-41b0-a754-2e3591cd6b5c",
   "metadata": {},
   "outputs": [],
   "source": [
    "def fmt_top(cat_terms):\n",
    "    cat, lst = cat_terms\n",
    "    for rank, (term, chi) in enumerate(lst, 1):\n",
    "        yield f\"{cat}\\t{rank}\\t{term}\\t{chi:.6f}\"\n",
    "\n",
    "lines_rdd = top_per_cat.flatMap(fmt_top)\n",
    "\n",
    "(sc.union([\n",
    "       lines_rdd,\n",
    "       joined_dict.map(lambda t: f\"DICT\\t{t}\")\n",
    "   ])\n",
    "   .saveAsTextFile(output_path)) "
   ]
  },
  {
   "cell_type": "markdown",
   "id": "3ac7c352-6b53-41f4-aae1-529ed56c262a",
   "metadata": {},
   "source": [
    "## Test"
   ]
  },
  {
   "cell_type": "code",
   "execution_count": 14,
   "id": "6b873273-7620-412d-a636-898bb6af3872",
   "metadata": {},
   "outputs": [
    {
     "data": {
      "text/plain": [
       "[('Patio_Lawn_and_Garde', ('plants', 2746.549187222077)),\n",
       " ('Patio_Lawn_and_Garde', ('feeder', 2114.483182142572)),\n",
       " ('Patio_Lawn_and_Garde', ('lawn', 2045.468946611291)),\n",
       " ('Patio_Lawn_and_Garde', ('yard', 1953.2647826010518)),\n",
       " ('Patio_Lawn_and_Garde', ('seeds', 1939.4685191900965)),\n",
       " ('Patio_Lawn_and_Garde', ('seed', 1934.577152610529)),\n",
       " ('Patio_Lawn_and_Garde', ('grass', 1911.3092309155295)),\n",
       " ('Patio_Lawn_and_Garde', ('smoker', 1801.1603762893496)),\n",
       " ('Patio_Lawn_and_Garde', ('traps', 1703.3113455251932)),\n",
       " ('Patio_Lawn_and_Garde', ('pool', 1641.492098619988))]"
      ]
     },
     "execution_count": 14,
     "metadata": {},
     "output_type": "execute_result"
    }
   ],
   "source": [
    "# top 10 in arbitrary category\n",
    "(rdd_chisq\n",
    "   .filter(lambda x: x[0] == \"Patio_Lawn_and_Garde\")\n",
    "   .takeOrdered(10, key=lambda x: -x[1][1]))"
   ]
  },
  {
   "cell_type": "markdown",
   "id": "a55f6aec-64ed-4e02-b353-729dacd5d86b",
   "metadata": {},
   "source": [
    "## Check whether output directory already exists and delete with these commands to rerun"
   ]
  },
  {
   "cell_type": "code",
   "execution_count": 15,
   "id": "bbff13cf-376c-40be-b22f-1d8fe1435f52",
   "metadata": {},
   "outputs": [
    {
     "name": "stdout",
     "output_type": "stream",
     "text": [
      "Found 4 items\n",
      "drwxr-xr-x   - e12434735 supergroup          0 2025-05-06 13:02 .sparkStaging\n",
      "drwxr-xr-x   - e12434735 supergroup          0 2025-03-29 17:46 books\n",
      "drwxr-xr-x   - e12434735 supergroup          0 2025-05-06 13:03 output_ds.txt\n",
      "drwxr-xr-x   - e12434735 supergroup          0 2025-03-29 17:49 tmp\n"
     ]
    }
   ],
   "source": [
    "!hdfs dfs -ls"
   ]
  },
  {
   "cell_type": "code",
   "execution_count": null,
   "id": "30ef6c03-f26c-4590-9c66-137dcfa9d984",
   "metadata": {},
   "outputs": [],
   "source": [
    "#!hdfs dfs -rm -r"
   ]
  }
 ],
 "metadata": {
  "kernelspec": {
   "display_name": "Python 3",
   "language": "python",
   "name": "python3"
  },
  "language_info": {
   "codemirror_mode": {
    "name": "ipython",
    "version": 3
   },
   "file_extension": ".py",
   "mimetype": "text/x-python",
   "name": "python",
   "nbconvert_exporter": "python",
   "pygments_lexer": "ipython3",
   "version": "3.9.20"
  }
 },
 "nbformat": 4,
 "nbformat_minor": 5
}
