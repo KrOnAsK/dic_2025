{
 "cells": [
  {
   "cell_type": "markdown",
   "id": "875e7f04-c3e5-44d7-b604-9259bb131bd0",
   "metadata": {
    "editable": true,
    "slideshow": {
     "slide_type": ""
    },
    "tags": []
   },
   "source": [
    "# DIC EX2 - part 1"
   ]
  },
  {
   "cell_type": "markdown",
   "id": "ed4c9941-f61e-48f4-a5c3-01b2de8d45f9",
   "metadata": {
    "editable": true,
    "slideshow": {
     "slide_type": ""
    },
    "tags": []
   },
   "source": [
    "## Setup\n",
    "\n",
    "### Initialize Spark context"
   ]
  },
  {
   "cell_type": "code",
   "execution_count": 1,
   "id": "2590cf54-9939-4f23-be41-abff87d7ce14",
   "metadata": {
    "editable": true,
    "slideshow": {
     "slide_type": ""
    },
    "tags": []
   },
   "outputs": [
    {
     "name": "stderr",
     "output_type": "stream",
     "text": [
      "SLF4J: Class path contains multiple SLF4J bindings.\n",
      "SLF4J: Found binding in [jar:file:/usr/lib/spark/jars/log4j-slf4j-impl-2.17.2.jar!/org/slf4j/impl/StaticLoggerBinder.class]\n",
      "SLF4J: Found binding in [jar:file:/usr/lib/hadoop/lib/slf4j-reload4j-1.7.36.jar!/org/slf4j/impl/StaticLoggerBinder.class]\n",
      "SLF4J: See http://www.slf4j.org/codes.html#multiple_bindings for an explanation.\n",
      "SLF4J: Actual binding is of type [org.apache.logging.slf4j.Log4jLoggerFactory]\n",
      "Setting default log level to \"WARN\".\n",
      "To adjust logging level use sc.setLogLevel(newLevel). For SparkR, use setLogLevel(newLevel).\n"
     ]
    },
    {
     "name": "stdout",
     "output_type": "stream",
     "text": [
      "25/05/13 16:21:02 WARN Utils: Service 'SparkUI' could not bind on port 4040. Attempting port 4041.\n",
      "25/05/13 16:21:06 WARN Client: Neither spark.yarn.jars nor spark.yarn.archive is set, falling back to uploading libraries under SPARK_HOME.\n"
     ]
    }
   ],
   "source": [
    "from pyspark.sql import SparkSession\n",
    "\n",
    "spark = SparkSession \\\n",
    "    .builder \\\n",
    "    .appName(\"DIC EX 2 - group 36\") \\\n",
    "    .getOrCreate()\n",
    "sc = spark.sparkContext"
   ]
  },
  {
   "cell_type": "markdown",
   "id": "b36b6529-e715-4393-97be-3f36d9e254cd",
   "metadata": {
    "editable": true,
    "slideshow": {
     "slide_type": ""
    },
    "tags": []
   },
   "source": [
    "### Set path variables"
   ]
  },
  {
   "cell_type": "code",
   "execution_count": 2,
   "id": "efdf2c4c-cd22-429d-9937-5bf54249bc46",
   "metadata": {
    "editable": true,
    "slideshow": {
     "slide_type": ""
    },
    "tags": []
   },
   "outputs": [],
   "source": [
    "data_path = \"hdfs:///user/dic25_shared/amazon-reviews/full/reviews_devset.json\"\n",
    "stopwords_path = \"stopwords.txt\"\n",
    "output_path = \"output_rdd.txt\""
   ]
  },
  {
   "cell_type": "markdown",
   "id": "a5de0bc7-3f76-48eb-865a-0889b004c1ef",
   "metadata": {
    "editable": true,
    "slideshow": {
     "slide_type": ""
    },
    "tags": []
   },
   "source": [
    "### Load data"
   ]
  },
  {
   "cell_type": "code",
   "execution_count": 3,
   "id": "402c5577-b0fd-47da-86d8-d87dd13afdde",
   "metadata": {
    "editable": true,
    "slideshow": {
     "slide_type": ""
    },
    "tags": []
   },
   "outputs": [
    {
     "name": "stderr",
     "output_type": "stream",
     "text": [
      "                                                                                "
     ]
    },
    {
     "data": {
      "text/plain": [
       "{'reviewerID': 'A2VNYWOPJ13AFP',\n",
       " 'asin': '0981850006',\n",
       " 'reviewerName': 'Amazon Customer \"carringt0n\"',\n",
       " 'helpful': [6, 7],\n",
       " 'reviewText': \"This was a gift for my other husband.  He's making us things from it all the time and we love the food.  Directions are simple, easy to read and interpret, and fun to make.  We all love different kinds of cuisine and Raichlen provides recipes from everywhere along the barbecue trail as he calls it. Get it and just open a page.  Have at it.  You'll love the food and it has provided us with an insight into the culture that produced it. It's all about broadening horizons.  Yum!!\",\n",
       " 'overall': 5.0,\n",
       " 'summary': 'Delish',\n",
       " 'unixReviewTime': 1259798400,\n",
       " 'reviewTime': '12 3, 2009',\n",
       " 'category': 'Patio_Lawn_and_Garde'}"
      ]
     },
     "execution_count": 3,
     "metadata": {},
     "output_type": "execute_result"
    }
   ],
   "source": [
    "import json\n",
    "rdd_json = sc.textFile(data_path).map(json.loads).persist()\n",
    "rdd_json.first()"
   ]
  },
  {
   "cell_type": "markdown",
   "id": "78a6fb84-4eac-4b1e-b155-e671e80a5057",
   "metadata": {},
   "source": [
    "## Prepare Data\n",
    "### Tokenize, Lowecase and Remove Stopwords"
   ]
  },
  {
   "cell_type": "code",
   "execution_count": 4,
   "id": "6946f5fc-8def-487d-a05c-9c8e41c82522",
   "metadata": {},
   "outputs": [
    {
     "name": "stderr",
     "output_type": "stream",
     "text": [
      "                                                                                "
     ]
    },
    {
     "data": {
      "text/plain": [
       "[('Patio_Lawn_and_Garde', 'insight'),\n",
       " ('Patio_Lawn_and_Garde', 'things'),\n",
       " ('Patio_Lawn_and_Garde', 'open'),\n",
       " ('Patio_Lawn_and_Garde', 'raichlen'),\n",
       " ('Patio_Lawn_and_Garde', 'horizons'),\n",
       " ('Patio_Lawn_and_Garde', 'food'),\n",
       " ('Patio_Lawn_and_Garde', 'make'),\n",
       " ('Patio_Lawn_and_Garde', 'broadening'),\n",
       " ('Patio_Lawn_and_Garde', 'cuisine'),\n",
       " ('Patio_Lawn_and_Garde', 'husband')]"
      ]
     },
     "execution_count": 4,
     "metadata": {},
     "output_type": "execute_result"
    }
   ],
   "source": [
    "import re, string\n",
    "\n",
    "def load_stopwords(path: str) -> list[str]:\n",
    "    \"\"\"\n",
    "    Load stopwords from a file efficiently.\n",
    "    \"\"\"\n",
    "    stopwords = set()\n",
    "    with open(path, \"r\", encoding=\"utf-8\") as f:\n",
    "        stopwords = set(line.strip() for line in f if line.strip())\n",
    "    return list(stopwords)\n",
    "\n",
    "re_split = re.compile(\n",
    "    r\"[\\s\\t\\d\\(\\)\\[\\]\\{\\}\\.\\!\\?\\,\\;\\:\\+\\=\\-\\_\\\"\\'`\\~\\#\\@\\&\\*\\%\\€\\$\\§\\\\\\/]+\"\n",
    ")\n",
    "stop = load_stopwords(stopwords_path)\n",
    "stop_bc = sc.broadcast(stop)\n",
    "\n",
    "def clean_tokens(row):\n",
    "    cat = row[\"category\"]\n",
    "    text = row[\"reviewText\"].lower()\n",
    "    stop = stop_bc.value \n",
    "\n",
    "    tokens = set()\n",
    "    for token in re_split.split(text):\n",
    "        if token and len(token) > 1 and token not in stop:\n",
    "            tokens.add(token)\n",
    "    return [(cat, t) for t in tokens]\n",
    "\n",
    "data = rdd_json.flatMap(clean_tokens).persist()    \n",
    "\n",
    "data.take(10)"
   ]
  },
  {
   "cell_type": "markdown",
   "id": "1cc19f4e-e0a3-4e68-ae5b-4fe499f288f8",
   "metadata": {},
   "source": [
    "## Frequency counts"
   ]
  },
  {
   "cell_type": "code",
   "execution_count": 5,
   "id": "21bcce9b-ceac-4154-ad43-bcb216e7e7e6",
   "metadata": {},
   "outputs": [],
   "source": [
    "cat_term_count = (\n",
    "    data\n",
    "      .map(lambda ct: (ct, 1))\n",
    "      .reduceByKey(lambda a, b: a + b)\n",
    "      .persist()\n",
    ")"
   ]
  },
  {
   "cell_type": "code",
   "execution_count": 6,
   "id": "4e0b3a75-679a-4763-b0f6-b00d410f21a7",
   "metadata": {},
   "outputs": [
    {
     "name": "stderr",
     "output_type": "stream",
     "text": [
      "                                                                                "
     ]
    }
   ],
   "source": [
    "term_count = (\n",
    "    data\n",
    "      .map(lambda x: (x[1], 1))          \n",
    "      .reduceByKey(lambda a, b: a + b)  \n",
    "      .collectAsMap()\n",
    ")"
   ]
  },
  {
   "cell_type": "code",
   "execution_count": 7,
   "id": "f1dadeb2-c2a0-4d1a-9959-0f2d0e96212c",
   "metadata": {},
   "outputs": [],
   "source": [
    "cat_count = (\n",
    "    rdd_json                                 \n",
    "      .map(lambda d: (d['category'], 1))     # use rdd_json['category'] to count tokens once per review\n",
    "      .reduceByKey(lambda a, b: a + b)       \n",
    "      .collectAsMap()\n",
    ")"
   ]
  },
  {
   "cell_type": "code",
   "execution_count": 8,
   "id": "fa92f9a9-413f-4a45-8b2b-d03ea3f18bfb",
   "metadata": {},
   "outputs": [],
   "source": [
    "N = rdd_json.count()\n",
    "term_count_bc = sc.broadcast(term_count)\n",
    "cat_count_bc = sc.broadcast(cat_count)\n",
    "N_bc = sc.broadcast(N)"
   ]
  },
  {
   "cell_type": "markdown",
   "id": "5fa439ab-b250-4754-a1c9-125f0c04e9db",
   "metadata": {},
   "source": [
    "## Chi-Squared Computation"
   ]
  },
  {
   "cell_type": "code",
   "execution_count": 9,
   "id": "49b03c6d-e4ef-40f8-a3ca-d274a0e9a442",
   "metadata": {},
   "outputs": [],
   "source": [
    "def chisq(record):\n",
    "    (cat, term), A = record            # A = n_ct\n",
    "    n_t = term_count_bc.value[term]   # A+B\n",
    "    n_c = cat_count_bc.value[cat]     # A+C\n",
    "    N   = N_bc.value\n",
    "\n",
    "    B = n_t - A\n",
    "    C = n_c - A\n",
    "    D = N  - A - B - C\n",
    "\n",
    "    numerator =  N * (A*D - B*C)**2 \n",
    "    denominator = (A+B)*(A+C)*(B+D)*(C+D)\n",
    "    chi2  = numerator / denominator if denominator else 0.0\n",
    "    return (cat, (term, chi2))\n",
    "\n",
    "rdd_chisq = cat_term_count.map(chisq)"
   ]
  },
  {
   "cell_type": "markdown",
   "id": "076a643b-078b-424b-9129-6bc7861de16f",
   "metadata": {},
   "source": [
    "## Top 75 terms per category"
   ]
  },
  {
   "cell_type": "code",
   "execution_count": 10,
   "id": "1eb747e4-679a-4aa4-90e4-f3cabd66a8be",
   "metadata": {},
   "outputs": [],
   "source": [
    "K = 75\n",
    "top_per_cat = (\n",
    "    rdd_chisq\n",
    "      .groupByKey()\n",
    "      .mapValues(lambda it:\n",
    "                 sorted(it, key=lambda x: -x[1])[:K])\n",
    "      .persist()\n",
    ")\n"
   ]
  },
  {
   "cell_type": "code",
   "execution_count": 11,
   "id": "62339b1c-03ef-41a6-9ef9-56bb20b42f3e",
   "metadata": {},
   "outputs": [
    {
     "name": "stderr",
     "output_type": "stream",
     "text": [
      "                                                                                "
     ]
    }
   ],
   "source": [
    "category_lines = (\n",
    "    top_per_cat\n",
    "      .map(lambda ct: (ct[0], \" \".join(f\"{t}:{c:.4f}\" for t, c in ct[1])))\n",
    "      .sortByKey() # alphabetical order\n",
    "      .map(lambda kv: f\"{kv[0]}\\t{kv[1]}\")\n",
    "      .collect()\n",
    ")\n",
    "\n",
    "dict_line = (\n",
    "    top_per_cat\n",
    "      .flatMap(lambda x: [t for t, _ in x[1]])\n",
    "      .distinct()\n",
    "      .sortBy(lambda x: x)\n",
    "      .collect()\n",
    ")\n",
    "dict_line = \" \".join(dict_line)\n"
   ]
  },
  {
   "cell_type": "code",
   "execution_count": 13,
   "id": "d56cba69-59cc-41b0-a754-2e3591cd6b5c",
   "metadata": {},
   "outputs": [],
   "source": [
    "with open(\"output_rdd.txt\", \"w\", encoding=\"utf-8\") as f:\n",
    "    f.write(\"\\n\".join(category_lines + [dict_line]))\n",
    " "
   ]
  },
  {
   "cell_type": "markdown",
   "id": "3ac7c352-6b53-41f4-aae1-529ed56c262a",
   "metadata": {},
   "source": [
    "## Test"
   ]
  },
  {
   "cell_type": "code",
   "execution_count": 14,
   "id": "6b873273-7620-412d-a636-898bb6af3872",
   "metadata": {},
   "outputs": [
    {
     "name": "stderr",
     "output_type": "stream",
     "text": [
      "                                                                                "
     ]
    },
    {
     "data": {
      "text/plain": [
       "[('Patio_Lawn_and_Garde', ('plants', 1375.2459845466976)),\n",
       " ('Patio_Lawn_and_Garde', ('lawn', 1202.315270475095)),\n",
       " ('Patio_Lawn_and_Garde', ('seeds', 1025.23041826743)),\n",
       " ('Patio_Lawn_and_Garde', ('yard', 970.6544432294293)),\n",
       " ('Patio_Lawn_and_Garde', ('garden', 863.0908397719647)),\n",
       " ('Patio_Lawn_and_Garde', ('seed', 816.1940705756133)),\n",
       " ('Patio_Lawn_and_Garde', ('feeder', 787.3686670546093)),\n",
       " ('Patio_Lawn_and_Garde', ('plant', 707.467245647197)),\n",
       " ('Patio_Lawn_and_Garde', ('gas', 678.5602454785391)),\n",
       " ('Patio_Lawn_and_Garde', ('grass', 622.2926746357932))]"
      ]
     },
     "execution_count": 14,
     "metadata": {},
     "output_type": "execute_result"
    }
   ],
   "source": [
    "# top 10 in arbitrary category\n",
    "(rdd_chisq\n",
    "   .filter(lambda x: x[0] == \"Patio_Lawn_and_Garde\")\n",
    "   .takeOrdered(10, key=lambda x: -x[1][1]))"
   ]
  }
 ],
 "metadata": {
  "kernelspec": {
   "display_name": "Python 3",
   "language": "python",
   "name": "python3"
  },
  "language_info": {
   "codemirror_mode": {
    "name": "ipython",
    "version": 3
   },
   "file_extension": ".py",
   "mimetype": "text/x-python",
   "name": "python",
   "nbconvert_exporter": "python",
   "pygments_lexer": "ipython3",
   "version": "3.9.20"
  }
 },
 "nbformat": 4,
 "nbformat_minor": 5
}
